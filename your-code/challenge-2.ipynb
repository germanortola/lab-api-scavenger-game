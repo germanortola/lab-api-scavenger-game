{
 "cells": [
  {
   "cell_type": "markdown",
   "id": "threaded-asbestos",
   "metadata": {},
   "source": [
    "# Challenge 2: Count Commits\n",
    "\n",
    "Count how many commits were made in the past week.\n",
    "\n",
    "Obtain all the commits made in the past week via API, which is a JSON array that contains multiple commit objects.\n",
    "\n",
    "Count how many commit objects are contained in the array."
   ]
  },
  {
   "cell_type": "markdown",
   "id": "norwegian-praise",
   "metadata": {},
   "source": [
    "⚠️ **Remember to limit your output before submission**."
   ]
  },
  {
   "cell_type": "code",
   "execution_count": 1,
   "id": "developing-printing",
   "metadata": {},
   "outputs": [
    {
     "data": {
      "text/plain": [
       "True"
      ]
     },
     "execution_count": 1,
     "metadata": {},
     "output_type": "execute_result"
    }
   ],
   "source": [
    "import json\n",
    "import requests\n",
    "import os\n",
    "from dotenv import load_dotenv\n",
    "load_dotenv()"
   ]
  },
  {
   "cell_type": "code",
   "execution_count": 3,
   "id": "df26bd06",
   "metadata": {},
   "outputs": [],
   "source": [
    "github = os.getenv(\"token\")\n",
    "token = os.getenv(\"token\")\n",
    "user = os.getenv(\"user\")\n",
    "\n",
    "parameters = {\"Authorization\":f\"token {token}\"}\n",
    "\n",
    "desde = {\"since\":\"2023-01-25\"}"
   ]
  },
  {
   "cell_type": "code",
   "execution_count": 4,
   "id": "316bf974",
   "metadata": {},
   "outputs": [
    {
     "data": {
      "text/plain": [
       "[{'sha': '655ea4a1c094357bcefa9fa17e2a89a5cd647707',\n",
       "  'node_id': 'C_kwDOIwMrKtoAKDY1NWVhNGExYzA5NDM1N2JjZWZhOWZhMTdlMmE4OWE1Y2Q2NDc3MDc',\n",
       "  'commit': {'author': {'name': 'Fernando Costa',\n",
       "    'email': '54676992+breogann@users.noreply.github.com',\n",
       "    'date': '2023-02-02T15:40:27Z'},\n",
       "   'committer': {'name': 'GitHub',\n",
       "    'email': 'noreply@github.com',\n",
       "    'date': '2023-02-02T15:40:27Z'},\n",
       "   'message': 'Update challenge-1.ipynb',\n",
       "   'tree': {'sha': '8e70678d2b69b7ff7e33c734a49a48b812282e97',\n",
       "    'url': 'https://api.github.com/repos/Ironhack-data-bcn-january-2023/lab-api-scavenger-game/git/trees/8e70678d2b69b7ff7e33c734a49a48b812282e97'},\n",
       "   'url': 'https://api.github.com/repos/Ironhack-data-bcn-january-2023/lab-api-scavenger-game/git/commits/655ea4a1c094357bcefa9fa17e2a89a5cd647707',\n",
       "   'comment_count': 0,\n",
       "   'verification': {'verified': True,\n",
       "    'reason': 'valid',\n",
       "    'signature': '-----BEGIN PGP SIGNATURE-----\\n\\nwsBcBAABCAAQBQJj29lrCRBK7hj4Ov3rIwAADjEIAF49xLi0Ev1KBB6KrX0hM07B\\n3NKyvSxE8NCY+6PJMt2g8nnZxT7YJQHaT2scUzVzh3t7eb6bgrzSpXJMjRxFOVbS\\n/cmmi5QYXm47I74bfagSrAHseDHg72JbU91SqcwFqYM3SFM/45MlhP9HThnTy3Ec\\n6oJPePzsIgkbFyX1/UmSug1fsABpa7LAyJiBSd27XVdpokZ3WR7G3Ah0hg35gBmb\\n9IyJhkbOAHmt79fVRnzoCickjn8YF0ZtkYWkniBmm2g//JmHEKpmNUZRqmk0ZyzA\\nicr4i6GynXOZZ5KhLqFOjFGH6LaabOp8nbizsr+9zeElY803D/NXFi+2Al/0lvQ=\\n=yFta\\n-----END PGP SIGNATURE-----\\n',\n",
       "    'payload': 'tree 8e70678d2b69b7ff7e33c734a49a48b812282e97\\nparent 5ededa7b9474d63b6b800dd76b7307f8cbcdd28d\\nauthor Fernando Costa <54676992+breogann@users.noreply.github.com> 1675352427 +0100\\ncommitter GitHub <noreply@github.com> 1675352427 +0100\\n\\nUpdate challenge-1.ipynb'}},\n",
       "  'url': 'https://api.github.com/repos/Ironhack-data-bcn-january-2023/lab-api-scavenger-game/commits/655ea4a1c094357bcefa9fa17e2a89a5cd647707',\n",
       "  'html_url': 'https://github.com/Ironhack-data-bcn-january-2023/lab-api-scavenger-game/commit/655ea4a1c094357bcefa9fa17e2a89a5cd647707',\n",
       "  'comments_url': 'https://api.github.com/repos/Ironhack-data-bcn-january-2023/lab-api-scavenger-game/commits/655ea4a1c094357bcefa9fa17e2a89a5cd647707/comments',\n",
       "  'author': {'login': 'breogann',\n",
       "   'id': 54676992,\n",
       "   'node_id': 'MDQ6VXNlcjU0Njc2OTky',\n",
       "   'avatar_url': 'https://avatars.githubusercontent.com/u/54676992?v=4',\n",
       "   'gravatar_id': '',\n",
       "   'url': 'https://api.github.com/users/breogann',\n",
       "   'html_url': 'https://github.com/breogann',\n",
       "   'followers_url': 'https://api.github.com/users/breogann/followers',\n",
       "   'following_url': 'https://api.github.com/users/breogann/following{/other_user}',\n",
       "   'gists_url': 'https://api.github.com/users/breogann/gists{/gist_id}',\n",
       "   'starred_url': 'https://api.github.com/users/breogann/starred{/owner}{/repo}',\n",
       "   'subscriptions_url': 'https://api.github.com/users/breogann/subscriptions',\n",
       "   'organizations_url': 'https://api.github.com/users/breogann/orgs',\n",
       "   'repos_url': 'https://api.github.com/users/breogann/repos',\n",
       "   'events_url': 'https://api.github.com/users/breogann/events{/privacy}',\n",
       "   'received_events_url': 'https://api.github.com/users/breogann/received_events',\n",
       "   'type': 'User',\n",
       "   'site_admin': False},\n",
       "  'committer': {'login': 'web-flow',\n",
       "   'id': 19864447,\n",
       "   'node_id': 'MDQ6VXNlcjE5ODY0NDQ3',\n",
       "   'avatar_url': 'https://avatars.githubusercontent.com/u/19864447?v=4',\n",
       "   'gravatar_id': '',\n",
       "   'url': 'https://api.github.com/users/web-flow',\n",
       "   'html_url': 'https://github.com/web-flow',\n",
       "   'followers_url': 'https://api.github.com/users/web-flow/followers',\n",
       "   'following_url': 'https://api.github.com/users/web-flow/following{/other_user}',\n",
       "   'gists_url': 'https://api.github.com/users/web-flow/gists{/gist_id}',\n",
       "   'starred_url': 'https://api.github.com/users/web-flow/starred{/owner}{/repo}',\n",
       "   'subscriptions_url': 'https://api.github.com/users/web-flow/subscriptions',\n",
       "   'organizations_url': 'https://api.github.com/users/web-flow/orgs',\n",
       "   'repos_url': 'https://api.github.com/users/web-flow/repos',\n",
       "   'events_url': 'https://api.github.com/users/web-flow/events{/privacy}',\n",
       "   'received_events_url': 'https://api.github.com/users/web-flow/received_events',\n",
       "   'type': 'User',\n",
       "   'site_admin': False},\n",
       "  'parents': [{'sha': '5ededa7b9474d63b6b800dd76b7307f8cbcdd28d',\n",
       "    'url': 'https://api.github.com/repos/Ironhack-data-bcn-january-2023/lab-api-scavenger-game/commits/5ededa7b9474d63b6b800dd76b7307f8cbcdd28d',\n",
       "    'html_url': 'https://github.com/Ironhack-data-bcn-january-2023/lab-api-scavenger-game/commit/5ededa7b9474d63b6b800dd76b7307f8cbcdd28d'}]},\n",
       " {'sha': '5ededa7b9474d63b6b800dd76b7307f8cbcdd28d',\n",
       "  'node_id': 'C_kwDOIwMrKtoAKDVlZGVkYTdiOTQ3NGQ2M2I2YjgwMGRkNzZiNzMwN2Y4Y2JjZGQyOGQ',\n",
       "  'commit': {'author': {'name': 'Fernando Costa',\n",
       "    'email': '54676992+breogann@users.noreply.github.com',\n",
       "    'date': '2023-02-02T14:52:37Z'},\n",
       "   'committer': {'name': 'GitHub',\n",
       "    'email': 'noreply@github.com',\n",
       "    'date': '2023-02-02T14:52:37Z'},\n",
       "   'message': 'Update challenge-1.ipynb',\n",
       "   'tree': {'sha': 'bb61c9e1278eb43d19fc55d498b660156ca338ee',\n",
       "    'url': 'https://api.github.com/repos/Ironhack-data-bcn-january-2023/lab-api-scavenger-game/git/trees/bb61c9e1278eb43d19fc55d498b660156ca338ee'},\n",
       "   'url': 'https://api.github.com/repos/Ironhack-data-bcn-january-2023/lab-api-scavenger-game/git/commits/5ededa7b9474d63b6b800dd76b7307f8cbcdd28d',\n",
       "   'comment_count': 0,\n",
       "   'verification': {'verified': True,\n",
       "    'reason': 'valid',\n",
       "    'signature': '-----BEGIN PGP SIGNATURE-----\\n\\nwsBcBAABCAAQBQJj2841CRBK7hj4Ov3rIwAArR4IAH0EdXF52QIGgUZGjlsbuZeY\\nAcO7a2YAqpiC8w4wCwiOQnZM9+COdOiE7V+Idf3vWtKc6c7J7IgeSvfAyqcQ0vxL\\nLSVMxs5Qq3IVYbbnKpJos3rLuc+tvJfxCHOLU1XyAl5P7z8RN8gZMyUGNeKzqEPD\\nQ91CcsDHWMZUIkDD3zQSOidrvfXKye3+0hHTugsOOf2PCR2CqLV3IgWf3WaOSai/\\nILeQsPpi/9CKSz77hkP8hy4A8z5/tQ1BIoxei+J3VqW5SmtF1CBtKEexdLDa6vMj\\nKG+ffVJdczSXFAt76wgdz08RHNVSH+oG7iK3p7cJtqQEVsR0QZ39H9nK3OF/wis=\\n=f9wc\\n-----END PGP SIGNATURE-----\\n',\n",
       "    'payload': 'tree bb61c9e1278eb43d19fc55d498b660156ca338ee\\nparent 31635f0d03c20f2f6a5f123d3980c283a64b8d6c\\nauthor Fernando Costa <54676992+breogann@users.noreply.github.com> 1675349557 +0100\\ncommitter GitHub <noreply@github.com> 1675349557 +0100\\n\\nUpdate challenge-1.ipynb'}},\n",
       "  'url': 'https://api.github.com/repos/Ironhack-data-bcn-january-2023/lab-api-scavenger-game/commits/5ededa7b9474d63b6b800dd76b7307f8cbcdd28d',\n",
       "  'html_url': 'https://github.com/Ironhack-data-bcn-january-2023/lab-api-scavenger-game/commit/5ededa7b9474d63b6b800dd76b7307f8cbcdd28d',\n",
       "  'comments_url': 'https://api.github.com/repos/Ironhack-data-bcn-january-2023/lab-api-scavenger-game/commits/5ededa7b9474d63b6b800dd76b7307f8cbcdd28d/comments',\n",
       "  'author': {'login': 'breogann',\n",
       "   'id': 54676992,\n",
       "   'node_id': 'MDQ6VXNlcjU0Njc2OTky',\n",
       "   'avatar_url': 'https://avatars.githubusercontent.com/u/54676992?v=4',\n",
       "   'gravatar_id': '',\n",
       "   'url': 'https://api.github.com/users/breogann',\n",
       "   'html_url': 'https://github.com/breogann',\n",
       "   'followers_url': 'https://api.github.com/users/breogann/followers',\n",
       "   'following_url': 'https://api.github.com/users/breogann/following{/other_user}',\n",
       "   'gists_url': 'https://api.github.com/users/breogann/gists{/gist_id}',\n",
       "   'starred_url': 'https://api.github.com/users/breogann/starred{/owner}{/repo}',\n",
       "   'subscriptions_url': 'https://api.github.com/users/breogann/subscriptions',\n",
       "   'organizations_url': 'https://api.github.com/users/breogann/orgs',\n",
       "   'repos_url': 'https://api.github.com/users/breogann/repos',\n",
       "   'events_url': 'https://api.github.com/users/breogann/events{/privacy}',\n",
       "   'received_events_url': 'https://api.github.com/users/breogann/received_events',\n",
       "   'type': 'User',\n",
       "   'site_admin': False},\n",
       "  'committer': {'login': 'web-flow',\n",
       "   'id': 19864447,\n",
       "   'node_id': 'MDQ6VXNlcjE5ODY0NDQ3',\n",
       "   'avatar_url': 'https://avatars.githubusercontent.com/u/19864447?v=4',\n",
       "   'gravatar_id': '',\n",
       "   'url': 'https://api.github.com/users/web-flow',\n",
       "   'html_url': 'https://github.com/web-flow',\n",
       "   'followers_url': 'https://api.github.com/users/web-flow/followers',\n",
       "   'following_url': 'https://api.github.com/users/web-flow/following{/other_user}',\n",
       "   'gists_url': 'https://api.github.com/users/web-flow/gists{/gist_id}',\n",
       "   'starred_url': 'https://api.github.com/users/web-flow/starred{/owner}{/repo}',\n",
       "   'subscriptions_url': 'https://api.github.com/users/web-flow/subscriptions',\n",
       "   'organizations_url': 'https://api.github.com/users/web-flow/orgs',\n",
       "   'repos_url': 'https://api.github.com/users/web-flow/repos',\n",
       "   'events_url': 'https://api.github.com/users/web-flow/events{/privacy}',\n",
       "   'received_events_url': 'https://api.github.com/users/web-flow/received_events',\n",
       "   'type': 'User',\n",
       "   'site_admin': False},\n",
       "  'parents': [{'sha': '31635f0d03c20f2f6a5f123d3980c283a64b8d6c',\n",
       "    'url': 'https://api.github.com/repos/Ironhack-data-bcn-january-2023/lab-api-scavenger-game/commits/31635f0d03c20f2f6a5f123d3980c283a64b8d6c',\n",
       "    'html_url': 'https://github.com/Ironhack-data-bcn-january-2023/lab-api-scavenger-game/commit/31635f0d03c20f2f6a5f123d3980c283a64b8d6c'}]}]"
      ]
     },
     "execution_count": 4,
     "metadata": {},
     "output_type": "execute_result"
    }
   ],
   "source": [
    "url_commits = \"  https://api.github.com/repos/Ironhack-data-bcn-january-2023/lab-api-scavenger-game/commits\"\n",
    "\n",
    "json_commits = requests.get(url_commits, params = desde).json()\n",
    "\n",
    "json_commits"
   ]
  },
  {
   "cell_type": "code",
   "execution_count": null,
   "id": "39f6f100",
   "metadata": {},
   "outputs": [],
   "source": []
  },
  {
   "cell_type": "code",
   "execution_count": 2,
   "id": "creative-stable",
   "metadata": {},
   "outputs": [],
   "source": [
    "# Example: print(variable[:10]) "
   ]
  },
  {
   "cell_type": "code",
   "execution_count": null,
   "id": "ongoing-taylor",
   "metadata": {},
   "outputs": [],
   "source": []
  }
 ],
 "metadata": {
  "kernelspec": {
   "display_name": "ironhack",
   "language": "python",
   "name": "python3"
  },
  "language_info": {
   "codemirror_mode": {
    "name": "ipython",
    "version": 3
   },
   "file_extension": ".py",
   "mimetype": "text/x-python",
   "name": "python",
   "nbconvert_exporter": "python",
   "pygments_lexer": "ipython3",
   "version": "3.10.4"
  },
  "toc": {
   "base_numbering": 1,
   "nav_menu": {},
   "number_sections": true,
   "sideBar": true,
   "skip_h1_title": true,
   "title_cell": "Table of Contents",
   "title_sidebar": "Contents",
   "toc_cell": false,
   "toc_position": {
    "height": "calc(100% - 180px)",
    "left": "10px",
    "top": "150px",
    "width": "288px"
   },
   "toc_section_display": true,
   "toc_window_display": true
  },
  "vscode": {
   "interpreter": {
    "hash": "4fb3542bd4955df1568bd30556108f2a509a772a1c7029bb09d83fc983cd9288"
   }
  }
 },
 "nbformat": 4,
 "nbformat_minor": 5
}
